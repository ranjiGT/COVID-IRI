{
 "cells": [
  {
   "cell_type": "code",
   "execution_count": null,
   "metadata": {
    "button": false,
    "deletable": true,
    "new_sheet": false,
    "run_control": {
     "read_only": false
    }
   },
   "outputs": [],
   "source": [
    "#\n",
    "# Code reproducing parts of the figures of the Nature Human Behavior paper\n",
    "# \"Assessing the risks of ‘infodemics’ in response to COVID-19 epidemics\"\n",
    "# Link: https://doi.org/10.1038/s41562-020-00994-6\n",
    "#\n",
    "# - Mapping infodemic risk worldwide (Fig. 3)\n",
    "#\n",
    "# Written by Riccardo Gallotti (rgallotti@gmail.com | @ricgallotti)\n",
    "# Revised by Nicola Castaldo (@ncastaldo)\n",
    "#\n",
    "# Version 1.0\n",
    "#"
   ]
  },
  {
   "cell_type": "code",
   "execution_count": null,
   "metadata": {
    "button": false,
    "deletable": true,
    "new_sheet": false,
    "run_control": {
     "read_only": false
    }
   },
   "outputs": [],
   "source": [
    "# -*- coding: utf-8 -*-\n",
    "import os\n",
    "\n",
    "import geopandas as gpd\n",
    "import pandas as pd\n",
    "import numpy as np\n",
    "from matplotlib import pyplot as plt\n",
    "import matplotlib as mpl"
   ]
  },
  {
   "cell_type": "code",
   "execution_count": null,
   "metadata": {},
   "outputs": [],
   "source": [
    "MAP_DIR_PATH = os.path.join('maps')\n",
    "MAP_WORLD_FILE_PATH = os.path.join(MAP_DIR_PATH, 'ne_10m_admin_0_countries')\n",
    "\n",
    "RESOURCES_DIR_PATH = os.path.join('resources')\n",
    "INFODEMICS_SUMMARY_FILE_PATH = os.path.join(RESOURCES_DIR_PATH, 'country_infodemics_summary.csv')\n",
    "\n",
    "PLOT_DIR_PATH = os.path.join('plots')\n",
    "PLOT_WORLD_FILE_PATH = os.path.join(PLOT_DIR_PATH, 'risk_WORLD_top.png')\n",
    "\n",
    "MAP_PROJECTION = 'esri:53009' # Mollweide\n",
    "\n",
    "CMAP = 'YlGnBu'"
   ]
  },
  {
   "cell_type": "code",
   "execution_count": null,
   "metadata": {},
   "outputs": [],
   "source": [
    "# Plot settings\n",
    "\n",
    "def plot_settings(fig, ax, zlabel, colormap, norm):\n",
    "    fig.set_size_inches(20,20)\n",
    "    plt.xlim(-1.3e7,1.65e7)\n",
    "    plt.ylim(-7e6,9e6)\n",
    "    plt.xticks([])\n",
    "    plt.yticks([])\n",
    "    plt.axis('off')\n",
    "    #Colorbar\n",
    "    fig = ax.get_figure()\n",
    "    cax = fig.add_axes([0.9, 0.34, 0.025, 0.3])\n",
    "    sm = plt.cm.ScalarMappable(cmap=colormap, norm=norm)\n",
    "    sm._A = []\n",
    "    fig.colorbar(sm, cax=cax)\n",
    "    cax.set_ylabel(zlabel, fontsize=20)\n",
    "    plt.tick_params(axis='both', which='major', labelsize=15)"
   ]
  },
  {
   "cell_type": "code",
   "execution_count": null,
   "metadata": {
    "button": false,
    "deletable": true,
    "new_sheet": false,
    "run_control": {
     "read_only": false
    }
   },
   "outputs": [],
   "source": [
    "gdf = gpd.read_file(MAP_WORLD_FILE_PATH)\n",
    "gdf = gdf.to_crs(MAP_PROJECTION)"
   ]
  },
  {
   "cell_type": "code",
   "execution_count": null,
   "metadata": {
    "button": false,
    "deletable": true,
    "new_sheet": false,
    "run_control": {
     "read_only": false
    }
   },
   "outputs": [],
   "source": [
    "df_avg = pd.read_csv(INFODEMICS_SUMMARY_FILE_PATH, delimiter=';')\n",
    "df_avg.index = df_avg['Country']"
   ]
  },
  {
   "cell_type": "code",
   "execution_count": null,
   "metadata": {
    "button": false,
    "deletable": true,
    "new_sheet": false,
    "run_control": {
     "read_only": false
    }
   },
   "outputs": [],
   "source": [
    "df_merged = pd.merge(gdf, df_avg, left_on='ADM0_A3', right_index=True)"
   ]
  },
  {
   "cell_type": "code",
   "execution_count": null,
   "metadata": {},
   "outputs": [],
   "source": [
    "# WORLD Risk Index (for countries with at least 100 tweets with news link labelled as reliable or not)\n",
    "\n",
    "df_plot = df_merged[df_merged['Message.Volume'] > 100]"
   ]
  },
  {
   "cell_type": "code",
   "execution_count": null,
   "metadata": {
    "button": false,
    "collapsed": false,
    "deletable": true,
    "jupyter": {
     "outputs_hidden": false
    },
    "new_sheet": false,
    "run_control": {
     "read_only": false
    }
   },
   "outputs": [],
   "source": [
    "# Plot\n",
    "\n",
    "fig, ax = plt.subplots()\n",
    "norm = mpl.colors.Normalize(vmin=0, vmax=1)\n",
    "\n",
    "gdf.plot(ax=ax, color='lightgrey', lw=0)\n",
    "\n",
    "df_plot.plot(ax=ax,\n",
    "             column='Info.Risk',\n",
    "             cmap=CMAP,\n",
    "             norm=norm,\n",
    "             lw=0,\n",
    "             vmin=0,\n",
    "             vmax=1)\n",
    "\n",
    "plot_settings(fig,ax,'Infodemic Risk Index', CMAP, norm)\n",
    "\n",
    "\n",
    "# Save figure\n",
    "\n",
    "plt.savefig(PLOT_WORLD_FILE_PATH,\n",
    "            bbox_inches = 'tight',\n",
    "            definition = 'high',\n",
    "            transparent=True)"
   ]
  }
 ],
 "metadata": {
  "kernelspec": {
   "display_name": "Python 3",
   "language": "python",
   "name": "python3"
  },
  "language_info": {
   "codemirror_mode": {
    "name": "ipython",
    "version": 3
   },
   "file_extension": ".py",
   "mimetype": "text/x-python",
   "name": "python",
   "nbconvert_exporter": "python",
   "pygments_lexer": "ipython3",
   "version": "3.8.1"
  }
 },
 "nbformat": 4,
 "nbformat_minor": 4
}
