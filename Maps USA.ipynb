{
 "cells": [
  {
   "cell_type": "code",
   "execution_count": 4,
   "id": "48940d66",
   "metadata": {},
   "outputs": [],
   "source": [
    "import os\n",
    "import geopandas as gpd\n",
    "from matplotlib import pyplot as plt\n",
    "import matplotlib as mpl\n",
    "%matplotlib inline\n",
    "%matplotlib notebook"
   ]
  },
  {
   "cell_type": "code",
   "execution_count": 22,
   "id": "4c1227e3",
   "metadata": {},
   "outputs": [],
   "source": [
    "MAP_DIR_PATH = os.path.join('maps')\n",
    "MAP_USA_FILE_PATH = os.path.join(MAP_DIR_PATH, 'USA')\n",
    "\n",
    "PLOT_DIR_PATH = os.path.join('plots')\n",
    "#os.chdir(\"/maps/USA/plots/\")\n",
    "PLOT_USA_FILE_PATH = os.path.join(PLOT_DIR_PATH, 'risk_USA_states_top.png')\n",
    "\n",
    "CMAP = 'YlGnBu'"
   ]
  },
  {
   "cell_type": "code",
   "execution_count": 23,
   "id": "90faf340",
   "metadata": {},
   "outputs": [],
   "source": [
    "def plot_settings(fig,ax,zlabel,colormap,norm):\n",
    "    fig.set_size_inches(12,12)\n",
    "    plt.xlim(-2.2e6,2.5e6)\n",
    "    plt.ylim(-2.2e6,1e6)\n",
    "    plt.xticks([])\n",
    "    plt.yticks([])\n",
    "    plt.axis('off')\n",
    "    #Colorbar\n",
    "    fig = ax.get_figure()\n",
    "    cax = fig.add_axes([0.92, 0.27, 0.025, 0.5])\n",
    "    sm = plt.cm.ScalarMappable(cmap=colormap, norm=norm)\n",
    "    sm._A = []\n",
    "    fig.colorbar(sm, cax=cax)\n",
    "    cax.set_ylabel(zlabel,fontsize=20)\n",
    "    plt.tick_params(axis='both', which='major', labelsize=15)"
   ]
  },
  {
   "cell_type": "code",
   "execution_count": null,
   "id": "2e645659",
   "metadata": {},
   "outputs": [],
   "source": [
    "# Plot\n",
    "\n",
    "gdf_plot = gpd.read_file(MAP_USA_FILE_PATH)\n",
    "\n",
    "fig, ax = plt.subplots()\n",
    "column = 'IRI'\n",
    "\n",
    "norm = mpl.colors.Normalize(vmin=0, vmax=1)\n",
    "\n",
    "gdf_plot.plot(ax=ax, column=column, cmap=CMAP, norm=norm, lw=0, vmin=0, vmax=1)\n",
    "\n",
    "plot_settings(fig, ax, 'Infodemic Risk Index', CMAP, norm)\n",
    "\n",
    "\n",
    "# Save figure\n",
    "\n",
    "plt.savefig(PLOT_USA_FILE_PATH,\n",
    "            bbox_inches = 'tight',\n",
    "            definition = 'high', \n",
    "            transparent=True)"
   ]
  },
  {
   "cell_type": "code",
   "execution_count": 29,
   "id": "38bfadcd",
   "metadata": {
    "scrolled": true
   },
   "outputs": [
    {
     "data": {
      "text/plain": [
       "\"import numpy as np\\nx = np.linspace(0, 10, 100)\\n\\nfig = plt.figure()\\nplt.plot(x, np.sin(x), '-')\\nplt.plot(x, np.cos(x), '--');\\n\""
      ]
     },
     "execution_count": 29,
     "metadata": {},
     "output_type": "execute_result"
    }
   ],
   "source": [
    "\"\"\"import numpy as np\n",
    "x = np.linspace(0, 10, 100)\n",
    "\n",
    "fig = plt.figure()\n",
    "plt.plot(x, np.sin(x), '-')\n",
    "plt.plot(x, np.cos(x), '--');\n",
    "\"\"\""
   ]
  },
  {
   "cell_type": "code",
   "execution_count": 31,
   "id": "bcf20c16",
   "metadata": {},
   "outputs": [
    {
     "name": "stdout",
     "output_type": "stream",
     "text": [
      "Defaulting to user installation because normal site-packages is not writeable\n",
      "Collecting pip_magic\n",
      "  Downloading pip_magic-0.2.3-py2.py3-none-any.whl (3.5 kB)\n",
      "Installing collected packages: pip-magic\n",
      "Successfully installed pip-magic-0.2.3\n"
     ]
    }
   ],
   "source": [
    "!pip install pip_magic"
   ]
  },
  {
   "cell_type": "code",
   "execution_count": 33,
   "id": "dba10624",
   "metadata": {},
   "outputs": [
    {
     "name": "stdout",
     "output_type": "stream",
     "text": [
      "Requirement already satisfied: scipy in /home/ranji/anaconda3/lib/python3.7/site-packages (1.6.2)\n",
      "Requirement already satisfied: numpy<1.23.0,>=1.16.5 in /home/ranji/anaconda3/lib/python3.7/site-packages (from scipy) (1.20.2)\n",
      "Note: you may need to restart the kernel to use updated packages.\n"
     ]
    }
   ],
   "source": [
    "%pip install scipy"
   ]
  },
  {
   "cell_type": "code",
   "execution_count": 1,
   "id": "fc0dd9fd",
   "metadata": {},
   "outputs": [
    {
     "name": "stdout",
     "output_type": "stream",
     "text": [
      "Requirement already satisfied: fiona in /home/ranji/.local/lib/python3.7/site-packages (1.8.20)\n",
      "Requirement already satisfied: attrs>=17 in /home/ranji/.local/lib/python3.7/site-packages (from fiona) (21.2.0)\n",
      "Requirement already satisfied: click-plugins>=1.0 in /home/ranji/.local/lib/python3.7/site-packages (from fiona) (1.1.1)\n",
      "Requirement already satisfied: cligj>=0.5 in /home/ranji/.local/lib/python3.7/site-packages (from fiona) (0.7.2)\n",
      "Requirement already satisfied: munch in /home/ranji/.local/lib/python3.7/site-packages (from fiona) (2.5.0)\n",
      "Requirement already satisfied: click>=4.0 in /home/ranji/.local/lib/python3.7/site-packages (from fiona) (8.0.1)\n",
      "Requirement already satisfied: setuptools in /home/ranji/anaconda3/lib/python3.7/site-packages (from fiona) (52.0.0.post20210125)\n",
      "Requirement already satisfied: certifi in /home/ranji/anaconda3/lib/python3.7/site-packages (from fiona) (2021.5.30)\n",
      "Requirement already satisfied: six>=1.7 in /home/ranji/.local/lib/python3.7/site-packages (from fiona) (1.15.0)\n",
      "Requirement already satisfied: importlib-metadata in /home/ranji/anaconda3/lib/python3.7/site-packages (from click>=4.0->fiona) (3.10.0)\n",
      "Requirement already satisfied: zipp>=0.5 in /home/ranji/anaconda3/lib/python3.7/site-packages (from importlib-metadata->click>=4.0->fiona) (3.4.1)\n",
      "Requirement already satisfied: typing-extensions>=3.6.4 in /home/ranji/anaconda3/lib/python3.7/site-packages (from importlib-metadata->click>=4.0->fiona) (3.7.4.3)\n",
      "Note: you may need to restart the kernel to use updated packages.\n"
     ]
    }
   ],
   "source": [
    "%pip install fiona"
   ]
  }
 ],
 "metadata": {
  "kernelspec": {
   "display_name": "Python 3",
   "language": "python",
   "name": "python3"
  },
  "language_info": {
   "codemirror_mode": {
    "name": "ipython",
    "version": 3
   },
   "file_extension": ".py",
   "mimetype": "text/x-python",
   "name": "python",
   "nbconvert_exporter": "python",
   "pygments_lexer": "ipython3",
   "version": "3.7.10"
  }
 },
 "nbformat": 4,
 "nbformat_minor": 5
}
